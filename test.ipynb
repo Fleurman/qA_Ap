{
 "cells": [
  {
   "cell_type": "code",
   "execution_count": null,
   "id": "3c11da99",
   "metadata": {},
   "outputs": [],
   "source": [
    "import qA_Ap as qp\n",
    "from qA_Ap.app.ai.interfaces.cerebras import CerebrasAIInterface\n",
    "\n",
    "# qp.server.run(host='0.0.0.0', port=80, debug=True)"
   ]
  },
  {
   "cell_type": "code",
   "execution_count": null,
   "id": "9315f11a",
   "metadata": {},
   "outputs": [],
   "source": [
    "qp.init(\n",
    "    ai= CerebrasAIInterface(\n",
    "        key=\"csk-pt2x2jd9yrvddfr92rp4wx4fvd2wkfv8mjewvp3t59f4vyvk\", \n",
    "        model_name=\"llama3.1-8b\"\n",
    "    ),\n",
    "    database=\"data/tools_db\",\n",
    "    embeddings_model= \"data/llms/Qwen3-Embedding-0.6B\",\n",
    "    # api_server=False,\n",
    "    frontend=True\n",
    ")"
   ]
  },
  {
   "cell_type": "code",
   "execution_count": null,
   "id": "2faed5be",
   "metadata": {},
   "outputs": [],
   "source": [
    "from qA_Ap.app.catalog import compile_catalog\n",
    "\n",
    "compile_catalog()\n",
    "# compile_attribute(\"couleurs\")\n",
    "# find_documents_by_metadata(\"couleurs\",\"pink\")"
   ]
  },
  {
   "cell_type": "code",
   "execution_count": null,
   "id": "90e61af3",
   "metadata": {},
   "outputs": [],
   "source": [
    "State.Database.get_attribute_values(\"couleurs\")"
   ]
  },
  {
   "cell_type": "code",
   "execution_count": null,
   "id": "57e04d52",
   "metadata": {},
   "outputs": [],
   "source": [
    "print(\"=====================\")\n",
    "response = query(\"Je cherche un logiciel opensource pour éditer des pdf comme tourne pages, ajouter des annotations, couper en plusieurs documents...\")\n",
    "for chunk in response:\n",
    "    print(chunk,end=\"\",flush=True)\n",
    "print(\"\\n=====================\")"
   ]
  },
  {
   "cell_type": "code",
   "execution_count": null,
   "id": "eede7e05",
   "metadata": {},
   "outputs": [],
   "source": [
    "query(\"Quel outil utiliser pour développer un jeu ?\")"
   ]
  },
  {
   "cell_type": "code",
   "execution_count": null,
   "id": "66d46713",
   "metadata": {},
   "outputs": [],
   "source": [
    "query(\"Quel outil puis-je utiliser pour faire du dessin vectoriel ?\")"
   ]
  }
 ],
 "metadata": {
  "kernelspec": {
   "display_name": "env (3.12.10)",
   "language": "python",
   "name": "python3"
  },
  "language_info": {
   "codemirror_mode": {
    "name": "ipython",
    "version": 3
   },
   "file_extension": ".py",
   "mimetype": "text/x-python",
   "name": "python",
   "nbconvert_exporter": "python",
   "pygments_lexer": "ipython3",
   "version": "3.12.10"
  }
 },
 "nbformat": 4,
 "nbformat_minor": 5
}
